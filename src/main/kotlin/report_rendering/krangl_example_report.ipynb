{
 "cells": [
  {
   "cell_type": "markdown",
   "metadata": {},
   "source": [
    "## Flowers Analysis\n",
    "The iris flower:\n",
    "![](https://goo.gl/tTbZMq)"
   ]
  },
  {
   "cell_type": "code",
   "execution_count": null,
   "metadata": {},
   "outputs": [],
   "source": [
    "@file:MavenRepository(\"bintray-plugins\",\"http://jcenter.bintray.com\")\n",
    "@file:DependsOnMaven(\"de.mpicbg.scicomp:krangl:0.7\")\n",
    "\n",
    "import krangl.*"
   ]
  },
  {
   "cell_type": "markdown",
   "metadata": {},
   "source": [
    "The first records ininput data which is bundled with krangl is"
   ]
  },
  {
   "cell_type": "code",
   "execution_count": null,
   "metadata": {},
   "outputs": [],
   "source": [
    "irisData"
   ]
  },
  {
   "cell_type": "markdown",
   "metadata": {},
   "source": [
    "The structure of the input data is"
   ]
  },
  {
   "cell_type": "code",
   "execution_count": null,
   "metadata": {},
   "outputs": [],
   "source": [
    "irisData.glimpse()"
   ]
  },
  {
   "cell_type": "markdown",
   "metadata": {},
   "source": [
    "Calculate mean petal width"
   ]
  },
  {
   "cell_type": "code",
   "execution_count": null,
   "metadata": {},
   "outputs": [],
   "source": [
    "val summarizeDf: DataFrame = irisData\n",
    "    .groupBy(\"Species\")\n",
    "    .summarize(\"mean_petal_width\") { it[\"Petal.Width\"].mean() }\n",
    "\n",
    "summarizeDf.print()"
   ]
  },
  {
   "cell_type": "markdown",
   "metadata": {},
   "source": [
    "conclusion: Iris flowers of species _virginica_ have on average largest petal width."
   ]
  }
 ],
 "metadata": {},
 "nbformat": 4,
 "nbformat_minor": 2
}
